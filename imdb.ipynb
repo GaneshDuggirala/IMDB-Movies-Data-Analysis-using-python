{
 "cells": [
  {
   "cell_type": "markdown",
   "id": "880d9b54-a363-414d-87c3-81ea6060f5a4",
   "metadata": {},
   "source": [
    "<h1>IMDB Movie Data Set Analysis using Python</h1>\n",
    "<h3></h3>"
   ]
  },
  {
   "cell_type": "markdown",
   "id": "c6b8bf3a-4251-41fb-a86c-5b6e1ec29536",
   "metadata": {},
   "source": [
    "<p style=\"font-size: 25px;\">Analysis of 1000 IMDB Movies</p>\n",
    "\n",
    "\n",
    "<p><strong>Tools Used:</strong> Jupyter Notebook</p>\n",
    "<p><strong>Libraries Used :</strong>Pandas, Seaborn, Matplotlib</p>\r\n"
   ]
  },
  {
   "cell_type": "markdown",
   "id": "53c0c44a-5f0c-4571-9adc-54cedd855622",
   "metadata": {},
   "source": [
    "<h4>Import all Required Libraries for Visualisation</h4>"
   ]
  },
  {
   "cell_type": "code",
   "execution_count": 545,
   "id": "85f4030c-d59a-42c5-a432-815657ad4eb6",
   "metadata": {},
   "outputs": [],
   "source": [
    "import pandas as pd\n",
    "import numpy as np\n",
    "import matplotlib.pyplot as plt\n",
    "import seaborn as sns"
   ]
  },
  {
   "cell_type": "markdown",
   "id": "f257eb0a-86cc-4985-9036-29fce0099a6a",
   "metadata": {},
   "source": [
    "<h4>Reading the imdb.csv as a data frame into df variable</h4>"
   ]
  },
  {
   "cell_type": "code",
   "execution_count": 546,
   "id": "3e8ab346-137a-45d7-9926-deab7cf09f22",
   "metadata": {},
   "outputs": [
    {
     "data": {
      "text/html": [
       "<div>\n",
       "<style scoped>\n",
       "    .dataframe tbody tr th:only-of-type {\n",
       "        vertical-align: middle;\n",
       "    }\n",
       "\n",
       "    .dataframe tbody tr th {\n",
       "        vertical-align: top;\n",
       "    }\n",
       "\n",
       "    .dataframe thead th {\n",
       "        text-align: right;\n",
       "    }\n",
       "</style>\n",
       "<table border=\"1\" class=\"dataframe\">\n",
       "  <thead>\n",
       "    <tr style=\"text-align: right;\">\n",
       "      <th></th>\n",
       "      <th>Poster_Link</th>\n",
       "      <th>Series_Title</th>\n",
       "      <th>Released_Year</th>\n",
       "      <th>Certificate</th>\n",
       "      <th>Runtime</th>\n",
       "      <th>Genre</th>\n",
       "      <th>IMDB_Rating</th>\n",
       "      <th>Overview</th>\n",
       "      <th>Meta_score</th>\n",
       "      <th>Director</th>\n",
       "      <th>Star1</th>\n",
       "      <th>Star2</th>\n",
       "      <th>Star3</th>\n",
       "      <th>Star4</th>\n",
       "      <th>No_of_Votes</th>\n",
       "      <th>Gross</th>\n",
       "    </tr>\n",
       "  </thead>\n",
       "  <tbody>\n",
       "    <tr>\n",
       "      <th>0</th>\n",
       "      <td>https://m.media-amazon.com/images/M/MV5BMDFkYT...</td>\n",
       "      <td>The Shawshank Redemption</td>\n",
       "      <td>1994</td>\n",
       "      <td>A</td>\n",
       "      <td>142 min</td>\n",
       "      <td>Drama</td>\n",
       "      <td>9.3</td>\n",
       "      <td>Two imprisoned men bond over a number of years...</td>\n",
       "      <td>80.0</td>\n",
       "      <td>Frank Darabont</td>\n",
       "      <td>Tim Robbins</td>\n",
       "      <td>Morgan Freeman</td>\n",
       "      <td>Bob Gunton</td>\n",
       "      <td>William Sadler</td>\n",
       "      <td>2343110</td>\n",
       "      <td>28,341,469</td>\n",
       "    </tr>\n",
       "    <tr>\n",
       "      <th>1</th>\n",
       "      <td>https://m.media-amazon.com/images/M/MV5BM2MyNj...</td>\n",
       "      <td>The Godfather</td>\n",
       "      <td>1972</td>\n",
       "      <td>A</td>\n",
       "      <td>175 min</td>\n",
       "      <td>Crime, Drama</td>\n",
       "      <td>9.2</td>\n",
       "      <td>An organized crime dynasty's aging patriarch t...</td>\n",
       "      <td>100.0</td>\n",
       "      <td>Francis Ford Coppola</td>\n",
       "      <td>Marlon Brando</td>\n",
       "      <td>Al Pacino</td>\n",
       "      <td>James Caan</td>\n",
       "      <td>Diane Keaton</td>\n",
       "      <td>1620367</td>\n",
       "      <td>134,966,411</td>\n",
       "    </tr>\n",
       "    <tr>\n",
       "      <th>2</th>\n",
       "      <td>https://m.media-amazon.com/images/M/MV5BMTMxNT...</td>\n",
       "      <td>The Dark Knight</td>\n",
       "      <td>2008</td>\n",
       "      <td>UA</td>\n",
       "      <td>152 min</td>\n",
       "      <td>Action, Crime, Drama</td>\n",
       "      <td>9.0</td>\n",
       "      <td>When the menace known as the Joker wreaks havo...</td>\n",
       "      <td>84.0</td>\n",
       "      <td>Christopher Nolan</td>\n",
       "      <td>Christian Bale</td>\n",
       "      <td>Heath Ledger</td>\n",
       "      <td>Aaron Eckhart</td>\n",
       "      <td>Michael Caine</td>\n",
       "      <td>2303232</td>\n",
       "      <td>534,858,444</td>\n",
       "    </tr>\n",
       "    <tr>\n",
       "      <th>3</th>\n",
       "      <td>https://m.media-amazon.com/images/M/MV5BMWMwMG...</td>\n",
       "      <td>The Godfather: Part II</td>\n",
       "      <td>1974</td>\n",
       "      <td>A</td>\n",
       "      <td>202 min</td>\n",
       "      <td>Crime, Drama</td>\n",
       "      <td>9.0</td>\n",
       "      <td>The early life and career of Vito Corleone in ...</td>\n",
       "      <td>90.0</td>\n",
       "      <td>Francis Ford Coppola</td>\n",
       "      <td>Al Pacino</td>\n",
       "      <td>Robert De Niro</td>\n",
       "      <td>Robert Duvall</td>\n",
       "      <td>Diane Keaton</td>\n",
       "      <td>1129952</td>\n",
       "      <td>57,300,000</td>\n",
       "    </tr>\n",
       "    <tr>\n",
       "      <th>4</th>\n",
       "      <td>https://m.media-amazon.com/images/M/MV5BMWU4N2...</td>\n",
       "      <td>12 Angry Men</td>\n",
       "      <td>1957</td>\n",
       "      <td>U</td>\n",
       "      <td>96 min</td>\n",
       "      <td>Crime, Drama</td>\n",
       "      <td>9.0</td>\n",
       "      <td>A jury holdout attempts to prevent a miscarria...</td>\n",
       "      <td>96.0</td>\n",
       "      <td>Sidney Lumet</td>\n",
       "      <td>Henry Fonda</td>\n",
       "      <td>Lee J. Cobb</td>\n",
       "      <td>Martin Balsam</td>\n",
       "      <td>John Fiedler</td>\n",
       "      <td>689845</td>\n",
       "      <td>4,360,000</td>\n",
       "    </tr>\n",
       "  </tbody>\n",
       "</table>\n",
       "</div>"
      ],
      "text/plain": [
       "                                         Poster_Link  \\\n",
       "0  https://m.media-amazon.com/images/M/MV5BMDFkYT...   \n",
       "1  https://m.media-amazon.com/images/M/MV5BM2MyNj...   \n",
       "2  https://m.media-amazon.com/images/M/MV5BMTMxNT...   \n",
       "3  https://m.media-amazon.com/images/M/MV5BMWMwMG...   \n",
       "4  https://m.media-amazon.com/images/M/MV5BMWU4N2...   \n",
       "\n",
       "               Series_Title Released_Year Certificate  Runtime  \\\n",
       "0  The Shawshank Redemption          1994           A  142 min   \n",
       "1             The Godfather          1972           A  175 min   \n",
       "2           The Dark Knight          2008          UA  152 min   \n",
       "3    The Godfather: Part II          1974           A  202 min   \n",
       "4              12 Angry Men          1957           U   96 min   \n",
       "\n",
       "                  Genre  IMDB_Rating  \\\n",
       "0                 Drama          9.3   \n",
       "1          Crime, Drama          9.2   \n",
       "2  Action, Crime, Drama          9.0   \n",
       "3          Crime, Drama          9.0   \n",
       "4          Crime, Drama          9.0   \n",
       "\n",
       "                                            Overview  Meta_score  \\\n",
       "0  Two imprisoned men bond over a number of years...        80.0   \n",
       "1  An organized crime dynasty's aging patriarch t...       100.0   \n",
       "2  When the menace known as the Joker wreaks havo...        84.0   \n",
       "3  The early life and career of Vito Corleone in ...        90.0   \n",
       "4  A jury holdout attempts to prevent a miscarria...        96.0   \n",
       "\n",
       "               Director           Star1           Star2          Star3  \\\n",
       "0        Frank Darabont     Tim Robbins  Morgan Freeman     Bob Gunton   \n",
       "1  Francis Ford Coppola   Marlon Brando       Al Pacino     James Caan   \n",
       "2     Christopher Nolan  Christian Bale    Heath Ledger  Aaron Eckhart   \n",
       "3  Francis Ford Coppola       Al Pacino  Robert De Niro  Robert Duvall   \n",
       "4          Sidney Lumet     Henry Fonda     Lee J. Cobb  Martin Balsam   \n",
       "\n",
       "            Star4  No_of_Votes        Gross  \n",
       "0  William Sadler      2343110   28,341,469  \n",
       "1    Diane Keaton      1620367  134,966,411  \n",
       "2   Michael Caine      2303232  534,858,444  \n",
       "3    Diane Keaton      1129952   57,300,000  \n",
       "4    John Fiedler       689845    4,360,000  "
      ]
     },
     "execution_count": 546,
     "metadata": {},
     "output_type": "execute_result"
    }
   ],
   "source": [
    "df=pd.read_csv('imdb.csv')\n",
    "df.head()"
   ]
  },
  {
   "cell_type": "code",
   "execution_count": 547,
   "id": "ce1f08e7-e222-4e1e-bab2-39d01d4b999a",
   "metadata": {},
   "outputs": [
    {
     "data": {
      "text/plain": [
       "(1000, 16)"
      ]
     },
     "execution_count": 547,
     "metadata": {},
     "output_type": "execute_result"
    }
   ],
   "source": [
    "df.shape"
   ]
  },
  {
   "cell_type": "code",
   "execution_count": 548,
   "id": "ea03cca6-2fb3-4d74-a3d9-b0c6c529a467",
   "metadata": {},
   "outputs": [
    {
     "name": "stdout",
     "output_type": "stream",
     "text": [
      "<class 'pandas.core.frame.DataFrame'>\n",
      "RangeIndex: 1000 entries, 0 to 999\n",
      "Data columns (total 16 columns):\n",
      " #   Column         Non-Null Count  Dtype  \n",
      "---  ------         --------------  -----  \n",
      " 0   Poster_Link    1000 non-null   object \n",
      " 1   Series_Title   1000 non-null   object \n",
      " 2   Released_Year  1000 non-null   object \n",
      " 3   Certificate    899 non-null    object \n",
      " 4   Runtime        1000 non-null   object \n",
      " 5   Genre          1000 non-null   object \n",
      " 6   IMDB_Rating    1000 non-null   float64\n",
      " 7   Overview       1000 non-null   object \n",
      " 8   Meta_score     843 non-null    float64\n",
      " 9   Director       1000 non-null   object \n",
      " 10  Star1          1000 non-null   object \n",
      " 11  Star2          1000 non-null   object \n",
      " 12  Star3          1000 non-null   object \n",
      " 13  Star4          1000 non-null   object \n",
      " 14  No_of_Votes    1000 non-null   int64  \n",
      " 15  Gross          831 non-null    object \n",
      "dtypes: float64(2), int64(1), object(13)\n",
      "memory usage: 125.1+ KB\n"
     ]
    }
   ],
   "source": [
    "df.info()"
   ]
  },
  {
   "cell_type": "code",
   "execution_count": 549,
   "id": "9b298fb4-9bbf-481d-9e67-9242f34623f4",
   "metadata": {},
   "outputs": [
    {
     "data": {
      "text/plain": [
       "Index(['Poster_Link', 'Series_Title', 'Released_Year', 'Certificate',\n",
       "       'Runtime', 'Genre', 'IMDB_Rating', 'Overview', 'Meta_score', 'Director',\n",
       "       'Star1', 'Star2', 'Star3', 'Star4', 'No_of_Votes', 'Gross'],\n",
       "      dtype='object')"
      ]
     },
     "execution_count": 549,
     "metadata": {},
     "output_type": "execute_result"
    }
   ],
   "source": [
    "df.columns"
   ]
  },
  {
   "cell_type": "markdown",
   "id": "9285f565-02af-46ea-80a9-a01b2b237859",
   "metadata": {},
   "source": [
    "<h4>Identifying and Removing Unused Columns</h4>"
   ]
  },
  {
   "cell_type": "code",
   "execution_count": 550,
   "id": "7a57b8b1-fe9f-4e29-afab-ff6f60931a51",
   "metadata": {},
   "outputs": [
    {
     "data": {
      "text/html": [
       "<div>\n",
       "<style scoped>\n",
       "    .dataframe tbody tr th:only-of-type {\n",
       "        vertical-align: middle;\n",
       "    }\n",
       "\n",
       "    .dataframe tbody tr th {\n",
       "        vertical-align: top;\n",
       "    }\n",
       "\n",
       "    .dataframe thead th {\n",
       "        text-align: right;\n",
       "    }\n",
       "</style>\n",
       "<table border=\"1\" class=\"dataframe\">\n",
       "  <thead>\n",
       "    <tr style=\"text-align: right;\">\n",
       "      <th></th>\n",
       "      <th>Series_Title</th>\n",
       "      <th>Released_Year</th>\n",
       "      <th>Certificate</th>\n",
       "      <th>Runtime</th>\n",
       "      <th>Genre</th>\n",
       "      <th>IMDB_Rating</th>\n",
       "      <th>Meta_score</th>\n",
       "      <th>Director</th>\n",
       "      <th>No_of_Votes</th>\n",
       "      <th>Gross</th>\n",
       "    </tr>\n",
       "  </thead>\n",
       "  <tbody>\n",
       "    <tr>\n",
       "      <th>0</th>\n",
       "      <td>The Shawshank Redemption</td>\n",
       "      <td>1994</td>\n",
       "      <td>A</td>\n",
       "      <td>142 min</td>\n",
       "      <td>Drama</td>\n",
       "      <td>9.3</td>\n",
       "      <td>80.0</td>\n",
       "      <td>Frank Darabont</td>\n",
       "      <td>2343110</td>\n",
       "      <td>28,341,469</td>\n",
       "    </tr>\n",
       "    <tr>\n",
       "      <th>1</th>\n",
       "      <td>The Godfather</td>\n",
       "      <td>1972</td>\n",
       "      <td>A</td>\n",
       "      <td>175 min</td>\n",
       "      <td>Crime, Drama</td>\n",
       "      <td>9.2</td>\n",
       "      <td>100.0</td>\n",
       "      <td>Francis Ford Coppola</td>\n",
       "      <td>1620367</td>\n",
       "      <td>134,966,411</td>\n",
       "    </tr>\n",
       "    <tr>\n",
       "      <th>2</th>\n",
       "      <td>The Dark Knight</td>\n",
       "      <td>2008</td>\n",
       "      <td>UA</td>\n",
       "      <td>152 min</td>\n",
       "      <td>Action, Crime, Drama</td>\n",
       "      <td>9.0</td>\n",
       "      <td>84.0</td>\n",
       "      <td>Christopher Nolan</td>\n",
       "      <td>2303232</td>\n",
       "      <td>534,858,444</td>\n",
       "    </tr>\n",
       "    <tr>\n",
       "      <th>3</th>\n",
       "      <td>The Godfather: Part II</td>\n",
       "      <td>1974</td>\n",
       "      <td>A</td>\n",
       "      <td>202 min</td>\n",
       "      <td>Crime, Drama</td>\n",
       "      <td>9.0</td>\n",
       "      <td>90.0</td>\n",
       "      <td>Francis Ford Coppola</td>\n",
       "      <td>1129952</td>\n",
       "      <td>57,300,000</td>\n",
       "    </tr>\n",
       "    <tr>\n",
       "      <th>4</th>\n",
       "      <td>12 Angry Men</td>\n",
       "      <td>1957</td>\n",
       "      <td>U</td>\n",
       "      <td>96 min</td>\n",
       "      <td>Crime, Drama</td>\n",
       "      <td>9.0</td>\n",
       "      <td>96.0</td>\n",
       "      <td>Sidney Lumet</td>\n",
       "      <td>689845</td>\n",
       "      <td>4,360,000</td>\n",
       "    </tr>\n",
       "    <tr>\n",
       "      <th>...</th>\n",
       "      <td>...</td>\n",
       "      <td>...</td>\n",
       "      <td>...</td>\n",
       "      <td>...</td>\n",
       "      <td>...</td>\n",
       "      <td>...</td>\n",
       "      <td>...</td>\n",
       "      <td>...</td>\n",
       "      <td>...</td>\n",
       "      <td>...</td>\n",
       "    </tr>\n",
       "    <tr>\n",
       "      <th>995</th>\n",
       "      <td>Breakfast at Tiffany's</td>\n",
       "      <td>1961</td>\n",
       "      <td>A</td>\n",
       "      <td>115 min</td>\n",
       "      <td>Comedy, Drama, Romance</td>\n",
       "      <td>7.6</td>\n",
       "      <td>76.0</td>\n",
       "      <td>Blake Edwards</td>\n",
       "      <td>166544</td>\n",
       "      <td>NaN</td>\n",
       "    </tr>\n",
       "    <tr>\n",
       "      <th>996</th>\n",
       "      <td>Giant</td>\n",
       "      <td>1956</td>\n",
       "      <td>G</td>\n",
       "      <td>201 min</td>\n",
       "      <td>Drama, Western</td>\n",
       "      <td>7.6</td>\n",
       "      <td>84.0</td>\n",
       "      <td>George Stevens</td>\n",
       "      <td>34075</td>\n",
       "      <td>NaN</td>\n",
       "    </tr>\n",
       "    <tr>\n",
       "      <th>997</th>\n",
       "      <td>From Here to Eternity</td>\n",
       "      <td>1953</td>\n",
       "      <td>Passed</td>\n",
       "      <td>118 min</td>\n",
       "      <td>Drama, Romance, War</td>\n",
       "      <td>7.6</td>\n",
       "      <td>85.0</td>\n",
       "      <td>Fred Zinnemann</td>\n",
       "      <td>43374</td>\n",
       "      <td>30,500,000</td>\n",
       "    </tr>\n",
       "    <tr>\n",
       "      <th>998</th>\n",
       "      <td>Lifeboat</td>\n",
       "      <td>1944</td>\n",
       "      <td>NaN</td>\n",
       "      <td>97 min</td>\n",
       "      <td>Drama, War</td>\n",
       "      <td>7.6</td>\n",
       "      <td>78.0</td>\n",
       "      <td>Alfred Hitchcock</td>\n",
       "      <td>26471</td>\n",
       "      <td>NaN</td>\n",
       "    </tr>\n",
       "    <tr>\n",
       "      <th>999</th>\n",
       "      <td>The 39 Steps</td>\n",
       "      <td>1935</td>\n",
       "      <td>NaN</td>\n",
       "      <td>86 min</td>\n",
       "      <td>Crime, Mystery, Thriller</td>\n",
       "      <td>7.6</td>\n",
       "      <td>93.0</td>\n",
       "      <td>Alfred Hitchcock</td>\n",
       "      <td>51853</td>\n",
       "      <td>NaN</td>\n",
       "    </tr>\n",
       "  </tbody>\n",
       "</table>\n",
       "<p>1000 rows × 10 columns</p>\n",
       "</div>"
      ],
      "text/plain": [
       "                 Series_Title Released_Year Certificate  Runtime  \\\n",
       "0    The Shawshank Redemption          1994           A  142 min   \n",
       "1               The Godfather          1972           A  175 min   \n",
       "2             The Dark Knight          2008          UA  152 min   \n",
       "3      The Godfather: Part II          1974           A  202 min   \n",
       "4                12 Angry Men          1957           U   96 min   \n",
       "..                        ...           ...         ...      ...   \n",
       "995    Breakfast at Tiffany's          1961           A  115 min   \n",
       "996                     Giant          1956           G  201 min   \n",
       "997     From Here to Eternity          1953      Passed  118 min   \n",
       "998                  Lifeboat          1944         NaN   97 min   \n",
       "999              The 39 Steps          1935         NaN   86 min   \n",
       "\n",
       "                        Genre  IMDB_Rating  Meta_score              Director  \\\n",
       "0                       Drama          9.3        80.0        Frank Darabont   \n",
       "1                Crime, Drama          9.2       100.0  Francis Ford Coppola   \n",
       "2        Action, Crime, Drama          9.0        84.0     Christopher Nolan   \n",
       "3                Crime, Drama          9.0        90.0  Francis Ford Coppola   \n",
       "4                Crime, Drama          9.0        96.0          Sidney Lumet   \n",
       "..                        ...          ...         ...                   ...   \n",
       "995    Comedy, Drama, Romance          7.6        76.0         Blake Edwards   \n",
       "996            Drama, Western          7.6        84.0        George Stevens   \n",
       "997       Drama, Romance, War          7.6        85.0        Fred Zinnemann   \n",
       "998                Drama, War          7.6        78.0      Alfred Hitchcock   \n",
       "999  Crime, Mystery, Thriller          7.6        93.0      Alfred Hitchcock   \n",
       "\n",
       "     No_of_Votes        Gross  \n",
       "0        2343110   28,341,469  \n",
       "1        1620367  134,966,411  \n",
       "2        2303232  534,858,444  \n",
       "3        1129952   57,300,000  \n",
       "4         689845    4,360,000  \n",
       "..           ...          ...  \n",
       "995       166544          NaN  \n",
       "996        34075          NaN  \n",
       "997        43374   30,500,000  \n",
       "998        26471          NaN  \n",
       "999        51853          NaN  \n",
       "\n",
       "[1000 rows x 10 columns]"
      ]
     },
     "execution_count": 550,
     "metadata": {},
     "output_type": "execute_result"
    }
   ],
   "source": [
    "drop_cols=['Poster_Link','Overview','Star1', 'Star2', 'Star3', 'Star4']\n",
    "df=df.drop(drop_cols,axis=1)\n",
    "df"
   ]
  },
  {
   "cell_type": "code",
   "execution_count": 551,
   "id": "8b3e239c-4a8b-43cd-a78a-68c780d156ac",
   "metadata": {},
   "outputs": [
    {
     "name": "stdout",
     "output_type": "stream",
     "text": [
      "<class 'pandas.core.frame.DataFrame'>\n",
      "RangeIndex: 1000 entries, 0 to 999\n",
      "Data columns (total 10 columns):\n",
      " #   Column         Non-Null Count  Dtype  \n",
      "---  ------         --------------  -----  \n",
      " 0   Series_Title   1000 non-null   object \n",
      " 1   Released_Year  1000 non-null   object \n",
      " 2   Certificate    899 non-null    object \n",
      " 3   Runtime        1000 non-null   object \n",
      " 4   Genre          1000 non-null   object \n",
      " 5   IMDB_Rating    1000 non-null   float64\n",
      " 6   Meta_score     843 non-null    float64\n",
      " 7   Director       1000 non-null   object \n",
      " 8   No_of_Votes    1000 non-null   int64  \n",
      " 9   Gross          831 non-null    object \n",
      "dtypes: float64(2), int64(1), object(7)\n",
      "memory usage: 78.3+ KB\n"
     ]
    }
   ],
   "source": [
    "df.info()"
   ]
  },
  {
   "cell_type": "markdown",
   "id": "461da418-4b33-4a6f-bef2-4a83d1a38bf2",
   "metadata": {},
   "source": [
    "<h4>Finding Null Values</h4>"
   ]
  },
  {
   "cell_type": "code",
   "execution_count": 552,
   "id": "951825ca-d17b-4db5-a98e-5223b5e75967",
   "metadata": {},
   "outputs": [
    {
     "data": {
      "text/plain": [
       "Series_Title       0\n",
       "Released_Year      0\n",
       "Certificate      101\n",
       "Runtime            0\n",
       "Genre              0\n",
       "IMDB_Rating        0\n",
       "Meta_score       157\n",
       "Director           0\n",
       "No_of_Votes        0\n",
       "Gross            169\n",
       "dtype: int64"
      ]
     },
     "execution_count": 552,
     "metadata": {},
     "output_type": "execute_result"
    }
   ],
   "source": [
    "df.isnull().sum()"
   ]
  },
  {
   "cell_type": "markdown",
   "id": "e0f1c576-5a0e-4cb2-8e3f-d6ac152bc056",
   "metadata": {},
   "source": [
    "<h4>Removing Null Values</h4>"
   ]
  },
  {
   "cell_type": "code",
   "execution_count": 553,
   "id": "397aa188-76eb-44c4-9b82-410a61e2ddc0",
   "metadata": {},
   "outputs": [],
   "source": [
    "df.dropna(inplace=True)"
   ]
  },
  {
   "cell_type": "code",
   "execution_count": 554,
   "id": "86a3fff0-df3c-4862-a8e5-550bd2fcc743",
   "metadata": {},
   "outputs": [
    {
     "data": {
      "text/plain": [
       "Series_Title     0\n",
       "Released_Year    0\n",
       "Certificate      0\n",
       "Runtime          0\n",
       "Genre            0\n",
       "IMDB_Rating      0\n",
       "Meta_score       0\n",
       "Director         0\n",
       "No_of_Votes      0\n",
       "Gross            0\n",
       "dtype: int64"
      ]
     },
     "execution_count": 554,
     "metadata": {},
     "output_type": "execute_result"
    }
   ],
   "source": [
    "df.isnull().sum()"
   ]
  },
  {
   "cell_type": "code",
   "execution_count": 555,
   "id": "80c3a5de-2983-40c3-97cd-d957f77d4515",
   "metadata": {},
   "outputs": [
    {
     "data": {
      "text/html": [
       "<div>\n",
       "<style scoped>\n",
       "    .dataframe tbody tr th:only-of-type {\n",
       "        vertical-align: middle;\n",
       "    }\n",
       "\n",
       "    .dataframe tbody tr th {\n",
       "        vertical-align: top;\n",
       "    }\n",
       "\n",
       "    .dataframe thead th {\n",
       "        text-align: right;\n",
       "    }\n",
       "</style>\n",
       "<table border=\"1\" class=\"dataframe\">\n",
       "  <thead>\n",
       "    <tr style=\"text-align: right;\">\n",
       "      <th></th>\n",
       "      <th>Series_Title</th>\n",
       "      <th>Released_Year</th>\n",
       "      <th>Certificate</th>\n",
       "      <th>Runtime</th>\n",
       "      <th>Genre</th>\n",
       "      <th>IMDB_Rating</th>\n",
       "      <th>Meta_score</th>\n",
       "      <th>Director</th>\n",
       "      <th>No_of_Votes</th>\n",
       "      <th>Gross</th>\n",
       "    </tr>\n",
       "  </thead>\n",
       "  <tbody>\n",
       "    <tr>\n",
       "      <th>489</th>\n",
       "      <td>The Wrestler</td>\n",
       "      <td>2008</td>\n",
       "      <td>UA</td>\n",
       "      <td>109 min</td>\n",
       "      <td>Drama, Sport</td>\n",
       "      <td>7.9</td>\n",
       "      <td>80.0</td>\n",
       "      <td>Darren Aronofsky</td>\n",
       "      <td>289415</td>\n",
       "      <td>26,236,603</td>\n",
       "    </tr>\n",
       "    <tr>\n",
       "      <th>931</th>\n",
       "      <td>Lord of War</td>\n",
       "      <td>2005</td>\n",
       "      <td>R</td>\n",
       "      <td>122 min</td>\n",
       "      <td>Action, Crime, Drama</td>\n",
       "      <td>7.6</td>\n",
       "      <td>62.0</td>\n",
       "      <td>Andrew Niccol</td>\n",
       "      <td>294140</td>\n",
       "      <td>24,149,632</td>\n",
       "    </tr>\n",
       "    <tr>\n",
       "      <th>170</th>\n",
       "      <td>Tonari no Totoro</td>\n",
       "      <td>1988</td>\n",
       "      <td>U</td>\n",
       "      <td>86 min</td>\n",
       "      <td>Animation, Family, Fantasy</td>\n",
       "      <td>8.2</td>\n",
       "      <td>86.0</td>\n",
       "      <td>Hayao Miyazaki</td>\n",
       "      <td>291180</td>\n",
       "      <td>1,105,564</td>\n",
       "    </tr>\n",
       "    <tr>\n",
       "      <th>748</th>\n",
       "      <td>The Social Network</td>\n",
       "      <td>2010</td>\n",
       "      <td>UA</td>\n",
       "      <td>120 min</td>\n",
       "      <td>Biography, Drama</td>\n",
       "      <td>7.7</td>\n",
       "      <td>95.0</td>\n",
       "      <td>David Fincher</td>\n",
       "      <td>624982</td>\n",
       "      <td>96,962,694</td>\n",
       "    </tr>\n",
       "    <tr>\n",
       "      <th>566</th>\n",
       "      <td>King Kong</td>\n",
       "      <td>1933</td>\n",
       "      <td>Passed</td>\n",
       "      <td>100 min</td>\n",
       "      <td>Adventure, Horror, Sci-Fi</td>\n",
       "      <td>7.9</td>\n",
       "      <td>90.0</td>\n",
       "      <td>Merian C. Cooper</td>\n",
       "      <td>78991</td>\n",
       "      <td>10,000,000</td>\n",
       "    </tr>\n",
       "    <tr>\n",
       "      <th>74</th>\n",
       "      <td>Apocalypse Now</td>\n",
       "      <td>1979</td>\n",
       "      <td>R</td>\n",
       "      <td>147 min</td>\n",
       "      <td>Drama, Mystery, War</td>\n",
       "      <td>8.4</td>\n",
       "      <td>94.0</td>\n",
       "      <td>Francis Ford Coppola</td>\n",
       "      <td>606398</td>\n",
       "      <td>83,471,511</td>\n",
       "    </tr>\n",
       "  </tbody>\n",
       "</table>\n",
       "</div>"
      ],
      "text/plain": [
       "           Series_Title Released_Year Certificate  Runtime  \\\n",
       "489        The Wrestler          2008          UA  109 min   \n",
       "931         Lord of War          2005           R  122 min   \n",
       "170    Tonari no Totoro          1988           U   86 min   \n",
       "748  The Social Network          2010          UA  120 min   \n",
       "566           King Kong          1933      Passed  100 min   \n",
       "74       Apocalypse Now          1979           R  147 min   \n",
       "\n",
       "                          Genre  IMDB_Rating  Meta_score  \\\n",
       "489                Drama, Sport          7.9        80.0   \n",
       "931        Action, Crime, Drama          7.6        62.0   \n",
       "170  Animation, Family, Fantasy          8.2        86.0   \n",
       "748            Biography, Drama          7.7        95.0   \n",
       "566   Adventure, Horror, Sci-Fi          7.9        90.0   \n",
       "74          Drama, Mystery, War          8.4        94.0   \n",
       "\n",
       "                 Director  No_of_Votes       Gross  \n",
       "489      Darren Aronofsky       289415  26,236,603  \n",
       "931         Andrew Niccol       294140  24,149,632  \n",
       "170        Hayao Miyazaki       291180   1,105,564  \n",
       "748         David Fincher       624982  96,962,694  \n",
       "566      Merian C. Cooper        78991  10,000,000  \n",
       "74   Francis Ford Coppola       606398  83,471,511  "
      ]
     },
     "execution_count": 555,
     "metadata": {},
     "output_type": "execute_result"
    }
   ],
   "source": [
    "df.sample(6)"
   ]
  },
  {
   "cell_type": "code",
   "execution_count": 556,
   "id": "8b7a9f6a-6520-4b70-9bf6-bff9ab304a2f",
   "metadata": {},
   "outputs": [
    {
     "data": {
      "text/html": [
       "<div>\n",
       "<style scoped>\n",
       "    .dataframe tbody tr th:only-of-type {\n",
       "        vertical-align: middle;\n",
       "    }\n",
       "\n",
       "    .dataframe tbody tr th {\n",
       "        vertical-align: top;\n",
       "    }\n",
       "\n",
       "    .dataframe thead th {\n",
       "        text-align: right;\n",
       "    }\n",
       "</style>\n",
       "<table border=\"1\" class=\"dataframe\">\n",
       "  <thead>\n",
       "    <tr style=\"text-align: right;\">\n",
       "      <th></th>\n",
       "      <th>Series_Title</th>\n",
       "      <th>Released_Year</th>\n",
       "      <th>Certificate</th>\n",
       "      <th>Runtime</th>\n",
       "      <th>Genre</th>\n",
       "      <th>IMDB_Rating</th>\n",
       "      <th>Meta_score</th>\n",
       "      <th>Director</th>\n",
       "      <th>No_of_Votes</th>\n",
       "      <th>Gross</th>\n",
       "    </tr>\n",
       "  </thead>\n",
       "  <tbody>\n",
       "    <tr>\n",
       "      <th>0</th>\n",
       "      <td>The Shawshank Redemption</td>\n",
       "      <td>1994</td>\n",
       "      <td>A</td>\n",
       "      <td>142</td>\n",
       "      <td>Drama</td>\n",
       "      <td>9.3</td>\n",
       "      <td>80.0</td>\n",
       "      <td>Frank Darabont</td>\n",
       "      <td>2343110</td>\n",
       "      <td>28,341,469</td>\n",
       "    </tr>\n",
       "    <tr>\n",
       "      <th>1</th>\n",
       "      <td>The Godfather</td>\n",
       "      <td>1972</td>\n",
       "      <td>A</td>\n",
       "      <td>175</td>\n",
       "      <td>Crime, Drama</td>\n",
       "      <td>9.2</td>\n",
       "      <td>100.0</td>\n",
       "      <td>Francis Ford Coppola</td>\n",
       "      <td>1620367</td>\n",
       "      <td>134,966,411</td>\n",
       "    </tr>\n",
       "    <tr>\n",
       "      <th>2</th>\n",
       "      <td>The Dark Knight</td>\n",
       "      <td>2008</td>\n",
       "      <td>UA</td>\n",
       "      <td>152</td>\n",
       "      <td>Action, Crime, Drama</td>\n",
       "      <td>9.0</td>\n",
       "      <td>84.0</td>\n",
       "      <td>Christopher Nolan</td>\n",
       "      <td>2303232</td>\n",
       "      <td>534,858,444</td>\n",
       "    </tr>\n",
       "    <tr>\n",
       "      <th>3</th>\n",
       "      <td>The Godfather: Part II</td>\n",
       "      <td>1974</td>\n",
       "      <td>A</td>\n",
       "      <td>202</td>\n",
       "      <td>Crime, Drama</td>\n",
       "      <td>9.0</td>\n",
       "      <td>90.0</td>\n",
       "      <td>Francis Ford Coppola</td>\n",
       "      <td>1129952</td>\n",
       "      <td>57,300,000</td>\n",
       "    </tr>\n",
       "    <tr>\n",
       "      <th>4</th>\n",
       "      <td>12 Angry Men</td>\n",
       "      <td>1957</td>\n",
       "      <td>U</td>\n",
       "      <td>96</td>\n",
       "      <td>Crime, Drama</td>\n",
       "      <td>9.0</td>\n",
       "      <td>96.0</td>\n",
       "      <td>Sidney Lumet</td>\n",
       "      <td>689845</td>\n",
       "      <td>4,360,000</td>\n",
       "    </tr>\n",
       "  </tbody>\n",
       "</table>\n",
       "</div>"
      ],
      "text/plain": [
       "               Series_Title Released_Year Certificate  Runtime  \\\n",
       "0  The Shawshank Redemption          1994           A      142   \n",
       "1             The Godfather          1972           A      175   \n",
       "2           The Dark Knight          2008          UA      152   \n",
       "3    The Godfather: Part II          1974           A      202   \n",
       "4              12 Angry Men          1957           U       96   \n",
       "\n",
       "                  Genre  IMDB_Rating  Meta_score              Director  \\\n",
       "0                 Drama          9.3        80.0        Frank Darabont   \n",
       "1          Crime, Drama          9.2       100.0  Francis Ford Coppola   \n",
       "2  Action, Crime, Drama          9.0        84.0     Christopher Nolan   \n",
       "3          Crime, Drama          9.0        90.0  Francis Ford Coppola   \n",
       "4          Crime, Drama          9.0        96.0          Sidney Lumet   \n",
       "\n",
       "   No_of_Votes        Gross  \n",
       "0      2343110   28,341,469  \n",
       "1      1620367  134,966,411  \n",
       "2      2303232  534,858,444  \n",
       "3      1129952   57,300,000  \n",
       "4       689845    4,360,000  "
      ]
     },
     "execution_count": 556,
     "metadata": {},
     "output_type": "execute_result"
    }
   ],
   "source": [
    "df['Runtime']=df['Runtime'].str.split().str[0].astype('int32')\n",
    "df.head()"
   ]
  },
  {
   "cell_type": "code",
   "execution_count": 557,
   "id": "16513aad-a83f-4f83-95f6-4be3e621821d",
   "metadata": {},
   "outputs": [
    {
     "name": "stdout",
     "output_type": "stream",
     "text": [
      "<class 'pandas.core.frame.DataFrame'>\n",
      "Index: 714 entries, 0 to 997\n",
      "Data columns (total 10 columns):\n",
      " #   Column         Non-Null Count  Dtype  \n",
      "---  ------         --------------  -----  \n",
      " 0   Series_Title   714 non-null    object \n",
      " 1   Released_Year  714 non-null    object \n",
      " 2   Certificate    714 non-null    object \n",
      " 3   Runtime        714 non-null    int32  \n",
      " 4   Genre          714 non-null    object \n",
      " 5   IMDB_Rating    714 non-null    float64\n",
      " 6   Meta_score     714 non-null    float64\n",
      " 7   Director       714 non-null    object \n",
      " 8   No_of_Votes    714 non-null    int64  \n",
      " 9   Gross          714 non-null    object \n",
      "dtypes: float64(2), int32(1), int64(1), object(6)\n",
      "memory usage: 58.6+ KB\n"
     ]
    }
   ],
   "source": [
    "df.info()"
   ]
  },
  {
   "cell_type": "markdown",
   "id": "87dd0177-6343-4d05-ad66-b1be05ec0c20",
   "metadata": {},
   "source": [
    "<h4>Removing Unwanted Data From Released Year</h4>"
   ]
  },
  {
   "cell_type": "code",
   "execution_count": 615,
   "id": "23ac2237-20df-48f9-952d-7ee2d8f27c37",
   "metadata": {},
   "outputs": [],
   "source": [
    "inval='PG'\n",
    "mask=df['Released_Year']==inval\n",
    "df=df[~mask]\n",
    "df['Released_Year']=df['Released_Year'].astype('int32')"
   ]
  },
  {
   "cell_type": "code",
   "execution_count": 616,
   "id": "489d994a-ccc4-4ee3-9359-0fd93b019968",
   "metadata": {},
   "outputs": [
    {
     "name": "stdout",
     "output_type": "stream",
     "text": [
      "<class 'pandas.core.frame.DataFrame'>\n",
      "Index: 695 entries, 0 to 994\n",
      "Data columns (total 10 columns):\n",
      " #   Column         Non-Null Count  Dtype  \n",
      "---  ------         --------------  -----  \n",
      " 0   Series_Title   695 non-null    object \n",
      " 1   Released_Year  695 non-null    int32  \n",
      " 2   Certificate    695 non-null    object \n",
      " 3   Runtime        695 non-null    int32  \n",
      " 4   Genre          695 non-null    object \n",
      " 5   IMDB_Rating    695 non-null    float64\n",
      " 6   Meta_score     695 non-null    float64\n",
      " 7   Director       695 non-null    object \n",
      " 8   No_of_Votes    695 non-null    int64  \n",
      " 9   Gross          695 non-null    int32  \n",
      "dtypes: float64(2), int32(3), int64(1), object(4)\n",
      "memory usage: 67.7+ KB\n"
     ]
    }
   ],
   "source": [
    "df.info()"
   ]
  },
  {
   "cell_type": "code",
   "execution_count": 617,
   "id": "25443b67-5ba1-48f3-b911-dbe37ccc1b0d",
   "metadata": {},
   "outputs": [
    {
     "data": {
      "text/html": [
       "<div>\n",
       "<style scoped>\n",
       "    .dataframe tbody tr th:only-of-type {\n",
       "        vertical-align: middle;\n",
       "    }\n",
       "\n",
       "    .dataframe tbody tr th {\n",
       "        vertical-align: top;\n",
       "    }\n",
       "\n",
       "    .dataframe thead th {\n",
       "        text-align: right;\n",
       "    }\n",
       "</style>\n",
       "<table border=\"1\" class=\"dataframe\">\n",
       "  <thead>\n",
       "    <tr style=\"text-align: right;\">\n",
       "      <th></th>\n",
       "      <th>Series_Title</th>\n",
       "      <th>Released_Year</th>\n",
       "      <th>Certificate</th>\n",
       "      <th>Runtime</th>\n",
       "      <th>Genre</th>\n",
       "      <th>IMDB_Rating</th>\n",
       "      <th>Meta_score</th>\n",
       "      <th>Director</th>\n",
       "      <th>No_of_Votes</th>\n",
       "      <th>Gross</th>\n",
       "    </tr>\n",
       "  </thead>\n",
       "  <tbody>\n",
       "    <tr>\n",
       "      <th>0</th>\n",
       "      <td>The Shawshank Redemption</td>\n",
       "      <td>1994</td>\n",
       "      <td>A</td>\n",
       "      <td>142</td>\n",
       "      <td>Drama</td>\n",
       "      <td>9.3</td>\n",
       "      <td>80.0</td>\n",
       "      <td>Frank Darabont</td>\n",
       "      <td>2343110</td>\n",
       "      <td>28341469</td>\n",
       "    </tr>\n",
       "    <tr>\n",
       "      <th>1</th>\n",
       "      <td>The Godfather</td>\n",
       "      <td>1972</td>\n",
       "      <td>A</td>\n",
       "      <td>175</td>\n",
       "      <td>Crime, Drama</td>\n",
       "      <td>9.2</td>\n",
       "      <td>100.0</td>\n",
       "      <td>Francis Ford Coppola</td>\n",
       "      <td>1620367</td>\n",
       "      <td>134966411</td>\n",
       "    </tr>\n",
       "    <tr>\n",
       "      <th>2</th>\n",
       "      <td>The Dark Knight</td>\n",
       "      <td>2008</td>\n",
       "      <td>UA</td>\n",
       "      <td>152</td>\n",
       "      <td>Action, Crime, Drama</td>\n",
       "      <td>9.0</td>\n",
       "      <td>84.0</td>\n",
       "      <td>Christopher Nolan</td>\n",
       "      <td>2303232</td>\n",
       "      <td>534858444</td>\n",
       "    </tr>\n",
       "    <tr>\n",
       "      <th>3</th>\n",
       "      <td>The Godfather: Part II</td>\n",
       "      <td>1974</td>\n",
       "      <td>A</td>\n",
       "      <td>202</td>\n",
       "      <td>Crime, Drama</td>\n",
       "      <td>9.0</td>\n",
       "      <td>90.0</td>\n",
       "      <td>Francis Ford Coppola</td>\n",
       "      <td>1129952</td>\n",
       "      <td>57300000</td>\n",
       "    </tr>\n",
       "    <tr>\n",
       "      <th>4</th>\n",
       "      <td>12 Angry Men</td>\n",
       "      <td>1957</td>\n",
       "      <td>U</td>\n",
       "      <td>96</td>\n",
       "      <td>Crime, Drama</td>\n",
       "      <td>9.0</td>\n",
       "      <td>96.0</td>\n",
       "      <td>Sidney Lumet</td>\n",
       "      <td>689845</td>\n",
       "      <td>4360000</td>\n",
       "    </tr>\n",
       "  </tbody>\n",
       "</table>\n",
       "</div>"
      ],
      "text/plain": [
       "               Series_Title  Released_Year Certificate  Runtime  \\\n",
       "0  The Shawshank Redemption           1994           A      142   \n",
       "1             The Godfather           1972           A      175   \n",
       "2           The Dark Knight           2008          UA      152   \n",
       "3    The Godfather: Part II           1974           A      202   \n",
       "4              12 Angry Men           1957           U       96   \n",
       "\n",
       "                  Genre  IMDB_Rating  Meta_score              Director  \\\n",
       "0                 Drama          9.3        80.0        Frank Darabont   \n",
       "1          Crime, Drama          9.2       100.0  Francis Ford Coppola   \n",
       "2  Action, Crime, Drama          9.0        84.0     Christopher Nolan   \n",
       "3          Crime, Drama          9.0        90.0  Francis Ford Coppola   \n",
       "4          Crime, Drama          9.0        96.0          Sidney Lumet   \n",
       "\n",
       "   No_of_Votes      Gross  \n",
       "0      2343110   28341469  \n",
       "1      1620367  134966411  \n",
       "2      2303232  534858444  \n",
       "3      1129952   57300000  \n",
       "4       689845    4360000  "
      ]
     },
     "execution_count": 617,
     "metadata": {},
     "output_type": "execute_result"
    }
   ],
   "source": [
    "df.head()"
   ]
  },
  {
   "cell_type": "markdown",
   "id": "6fe080a7-fd18-4c2d-87ab-7f242a07bea9",
   "metadata": {},
   "source": [
    "<h4>Removing Unwanted Data From Sensor Certificate Column</h4>"
   ]
  },
  {
   "cell_type": "code",
   "execution_count": 618,
   "id": "de8d9f23-cfcb-4b54-91ba-189ca74a642b",
   "metadata": {},
   "outputs": [],
   "source": [
    "inval=['A','U','UA','R','PG-13','G','PG']\n",
    "for index, row in df.iterrows():\n",
    "    if row['Certificate'] not in inval:\n",
    "        df.drop(index, inplace=True)"
   ]
  },
  {
   "cell_type": "code",
   "execution_count": 619,
   "id": "142449bb-7bcb-4cdf-af37-d37aac7f2ae1",
   "metadata": {},
   "outputs": [
    {
     "name": "stdout",
     "output_type": "stream",
     "text": [
      "<class 'pandas.core.frame.DataFrame'>\n",
      "Index: 695 entries, 0 to 994\n",
      "Data columns (total 10 columns):\n",
      " #   Column         Non-Null Count  Dtype  \n",
      "---  ------         --------------  -----  \n",
      " 0   Series_Title   695 non-null    object \n",
      " 1   Released_Year  695 non-null    int32  \n",
      " 2   Certificate    695 non-null    object \n",
      " 3   Runtime        695 non-null    int32  \n",
      " 4   Genre          695 non-null    object \n",
      " 5   IMDB_Rating    695 non-null    float64\n",
      " 6   Meta_score     695 non-null    float64\n",
      " 7   Director       695 non-null    object \n",
      " 8   No_of_Votes    695 non-null    int64  \n",
      " 9   Gross          695 non-null    int32  \n",
      "dtypes: float64(2), int32(3), int64(1), object(4)\n",
      "memory usage: 67.7+ KB\n"
     ]
    }
   ],
   "source": [
    "df.info()"
   ]
  },
  {
   "cell_type": "code",
   "execution_count": 620,
   "id": "53001651-c09c-4158-ae2d-517169e5dba8",
   "metadata": {},
   "outputs": [
    {
     "data": {
      "text/plain": [
       "<bound method Series.unique of 0                             Drama\n",
       "1                      Crime, Drama\n",
       "2              Action, Crime, Drama\n",
       "3                      Crime, Drama\n",
       "4                      Crime, Drama\n",
       "                   ...             \n",
       "988                   Drama, Sci-Fi\n",
       "989            Comedy, Crime, Drama\n",
       "990             Drama, War, Western\n",
       "992    Animation, Adventure, Family\n",
       "994          Comedy, Music, Musical\n",
       "Name: Genre, Length: 695, dtype: object>"
      ]
     },
     "execution_count": 620,
     "metadata": {},
     "output_type": "execute_result"
    }
   ],
   "source": [
    "df['Genre'].unique"
   ]
  },
  {
   "cell_type": "code",
   "execution_count": 621,
   "id": "8e6b903a-e77d-480c-b251-f3f3d0b4c604",
   "metadata": {},
   "outputs": [],
   "source": [
    "concatenated_string = ','.join(df['Genre'])\n",
    "individual_values = concatenated_string.split(',')\n",
    "unique_values = set(individual_values)"
   ]
  },
  {
   "cell_type": "code",
   "execution_count": 622,
   "id": "8eb19930-b88a-4b81-b972-ca77510a29f8",
   "metadata": {},
   "outputs": [
    {
     "name": "stdout",
     "output_type": "stream",
     "text": [
      "{' Sport', ' Western', ' History', ' Action', 'Biography', ' Family', ' Horror', ' Mystery', ' Biography', 'Family', ' Romance', 'Animation', ' Fantasy', ' Thriller', ' Music', ' Adventure', ' Comedy', ' Sci-Fi', ' Drama', 'Horror', 'Western', 'Adventure', 'Action', 'Drama', ' Crime', 'Mystery', ' Film-Noir', ' War', 'Comedy', 'Crime', ' Musical'}\n"
     ]
    }
   ],
   "source": [
    "print(unique_values)"
   ]
  },
  {
   "cell_type": "markdown",
   "id": "8f28eec2-946e-40db-941c-30a3cd1e124d",
   "metadata": {},
   "source": [
    "<h4>Count Based on Movie Genre</h4>"
   ]
  },
  {
   "cell_type": "code",
   "execution_count": 623,
   "id": "066c1d7a-fb4d-4483-95c6-54121d3ead03",
   "metadata": {},
   "outputs": [
    {
     "data": {
      "text/plain": [
       "{'Drama': 486,\n",
       " 'Crime': 141,\n",
       " 'Action': 138,\n",
       " 'Adventure': 158,\n",
       " 'Biography': 88,\n",
       " 'History': 36,\n",
       " 'Sci-Fi': 55,\n",
       " 'Romance': 84,\n",
       " 'Western': 13,\n",
       " 'Fantasy': 55,\n",
       " 'Comedy': 158,\n",
       " 'Thriller': 96,\n",
       " 'Animation': 63,\n",
       " 'Family': 43,\n",
       " 'War': 26,\n",
       " 'Mystery': 66,\n",
       " 'Music': 27,\n",
       " 'Horror': 16,\n",
       " 'Sport': 17,\n",
       " 'Musical': 11,\n",
       " 'Film-Noir': 3}"
      ]
     },
     "execution_count": 623,
     "metadata": {},
     "output_type": "execute_result"
    }
   ],
   "source": [
    "movie_genre = {}\n",
    "for index, row in df.iterrows():\n",
    "    l = row['Genre'].strip().split(',')\n",
    "    for k in l:\n",
    "        k = k.strip()\n",
    "        # Check if the genre is already in the dictionary, if not, initialize it to 0\n",
    "        if k not in movie_genre:\n",
    "            movie_genre[k] = 0\n",
    "        movie_genre[k] += 1\n",
    "\n",
    "movie_genre\n"
   ]
  },
  {
   "cell_type": "markdown",
   "id": "8f929ecb-f2dc-410b-b548-0a6048346f15",
   "metadata": {},
   "source": [
    "<h4>Creating a New Data Frame For Genre and Count</h4>"
   ]
  },
  {
   "cell_type": "code",
   "execution_count": 624,
   "id": "13562661-f56a-482e-8661-af3b83682abc",
   "metadata": {},
   "outputs": [
    {
     "data": {
      "text/html": [
       "<div>\n",
       "<style scoped>\n",
       "    .dataframe tbody tr th:only-of-type {\n",
       "        vertical-align: middle;\n",
       "    }\n",
       "\n",
       "    .dataframe tbody tr th {\n",
       "        vertical-align: top;\n",
       "    }\n",
       "\n",
       "    .dataframe thead th {\n",
       "        text-align: right;\n",
       "    }\n",
       "</style>\n",
       "<table border=\"1\" class=\"dataframe\">\n",
       "  <thead>\n",
       "    <tr style=\"text-align: right;\">\n",
       "      <th></th>\n",
       "      <th>Genre</th>\n",
       "      <th>Count</th>\n",
       "    </tr>\n",
       "  </thead>\n",
       "  <tbody>\n",
       "    <tr>\n",
       "      <th>0</th>\n",
       "      <td>Drama</td>\n",
       "      <td>486</td>\n",
       "    </tr>\n",
       "    <tr>\n",
       "      <th>1</th>\n",
       "      <td>Crime</td>\n",
       "      <td>141</td>\n",
       "    </tr>\n",
       "    <tr>\n",
       "      <th>2</th>\n",
       "      <td>Action</td>\n",
       "      <td>138</td>\n",
       "    </tr>\n",
       "    <tr>\n",
       "      <th>3</th>\n",
       "      <td>Adventure</td>\n",
       "      <td>158</td>\n",
       "    </tr>\n",
       "    <tr>\n",
       "      <th>4</th>\n",
       "      <td>Biography</td>\n",
       "      <td>88</td>\n",
       "    </tr>\n",
       "    <tr>\n",
       "      <th>5</th>\n",
       "      <td>History</td>\n",
       "      <td>36</td>\n",
       "    </tr>\n",
       "    <tr>\n",
       "      <th>6</th>\n",
       "      <td>Sci-Fi</td>\n",
       "      <td>55</td>\n",
       "    </tr>\n",
       "    <tr>\n",
       "      <th>7</th>\n",
       "      <td>Romance</td>\n",
       "      <td>84</td>\n",
       "    </tr>\n",
       "    <tr>\n",
       "      <th>8</th>\n",
       "      <td>Western</td>\n",
       "      <td>13</td>\n",
       "    </tr>\n",
       "    <tr>\n",
       "      <th>9</th>\n",
       "      <td>Fantasy</td>\n",
       "      <td>55</td>\n",
       "    </tr>\n",
       "    <tr>\n",
       "      <th>10</th>\n",
       "      <td>Comedy</td>\n",
       "      <td>158</td>\n",
       "    </tr>\n",
       "    <tr>\n",
       "      <th>11</th>\n",
       "      <td>Thriller</td>\n",
       "      <td>96</td>\n",
       "    </tr>\n",
       "    <tr>\n",
       "      <th>12</th>\n",
       "      <td>Animation</td>\n",
       "      <td>63</td>\n",
       "    </tr>\n",
       "    <tr>\n",
       "      <th>13</th>\n",
       "      <td>Family</td>\n",
       "      <td>43</td>\n",
       "    </tr>\n",
       "    <tr>\n",
       "      <th>14</th>\n",
       "      <td>War</td>\n",
       "      <td>26</td>\n",
       "    </tr>\n",
       "    <tr>\n",
       "      <th>15</th>\n",
       "      <td>Mystery</td>\n",
       "      <td>66</td>\n",
       "    </tr>\n",
       "    <tr>\n",
       "      <th>16</th>\n",
       "      <td>Music</td>\n",
       "      <td>27</td>\n",
       "    </tr>\n",
       "    <tr>\n",
       "      <th>17</th>\n",
       "      <td>Horror</td>\n",
       "      <td>16</td>\n",
       "    </tr>\n",
       "    <tr>\n",
       "      <th>18</th>\n",
       "      <td>Sport</td>\n",
       "      <td>17</td>\n",
       "    </tr>\n",
       "    <tr>\n",
       "      <th>19</th>\n",
       "      <td>Musical</td>\n",
       "      <td>11</td>\n",
       "    </tr>\n",
       "    <tr>\n",
       "      <th>20</th>\n",
       "      <td>Film-Noir</td>\n",
       "      <td>3</td>\n",
       "    </tr>\n",
       "  </tbody>\n",
       "</table>\n",
       "</div>"
      ],
      "text/plain": [
       "        Genre  Count\n",
       "0       Drama    486\n",
       "1       Crime    141\n",
       "2      Action    138\n",
       "3   Adventure    158\n",
       "4   Biography     88\n",
       "5     History     36\n",
       "6      Sci-Fi     55\n",
       "7     Romance     84\n",
       "8     Western     13\n",
       "9     Fantasy     55\n",
       "10     Comedy    158\n",
       "11   Thriller     96\n",
       "12  Animation     63\n",
       "13     Family     43\n",
       "14        War     26\n",
       "15    Mystery     66\n",
       "16      Music     27\n",
       "17     Horror     16\n",
       "18      Sport     17\n",
       "19    Musical     11\n",
       "20  Film-Noir      3"
      ]
     },
     "execution_count": 624,
     "metadata": {},
     "output_type": "execute_result"
    }
   ],
   "source": [
    "movie_frame = pd.DataFrame(list(movie_genre.items()), columns=['Genre', 'Count'])\n",
    "movie_frame"
   ]
  },
  {
   "cell_type": "code",
   "execution_count": 625,
   "id": "75c27f6a-1b4e-4066-9e80-1b9f8dcaf813",
   "metadata": {},
   "outputs": [
    {
     "data": {
      "text/plain": [
       "<Axes: xlabel='Genre', ylabel='Count'>"
      ]
     },
     "execution_count": 625,
     "metadata": {},
     "output_type": "execute_result"
    },
    {
     "data": {
      "image/png": "[encoded data removed]",
      "text/plain": [
       "<Figure size 2100x900 with 1 Axes>"
      ]
     },
     "metadata": {},
     "output_type": "display_data"
    }
   ],
   "source": [
    "plt.figure(figsize=(21,9))\n",
    "sns.barplot(data=movie_frame,x='Genre',y='Count')\n"
   ]
  },
  {
   "cell_type": "markdown",
   "id": "4c400131-aeec-4140-aeb0-d4b189c632db",
   "metadata": {},
   "source": [
    "<h4 style=\"font-weight:300;font-size:21px;\"><i>The bar plot above displays the count of movies in each genre, showcasing the distribution of genres in the dataset. Each bar represents a genre, and the height of the bar corresponds to the number of movies belonging to that genre. The plot is color-coded using the 'viridis' color palette, providing a visual representation of the frequency of each genre in the dataset</i></h4>"
   ]
  },
  {
   "cell_type": "code",
   "execution_count": 626,
   "id": "f8630b32-2275-4b17-bfbf-fe658e44cb6b",
   "metadata": {},
   "outputs": [
    {
     "data": {
      "text/html": [
       "<div>\n",
       "<style scoped>\n",
       "    .dataframe tbody tr th:only-of-type {\n",
       "        vertical-align: middle;\n",
       "    }\n",
       "\n",
       "    .dataframe tbody tr th {\n",
       "        vertical-align: top;\n",
       "    }\n",
       "\n",
       "    .dataframe thead th {\n",
       "        text-align: right;\n",
       "    }\n",
       "</style>\n",
       "<table border=\"1\" class=\"dataframe\">\n",
       "  <thead>\n",
       "    <tr style=\"text-align: right;\">\n",
       "      <th></th>\n",
       "      <th>Series_Title</th>\n",
       "      <th>Released_Year</th>\n",
       "      <th>Certificate</th>\n",
       "      <th>Runtime</th>\n",
       "      <th>Genre</th>\n",
       "      <th>IMDB_Rating</th>\n",
       "      <th>Meta_score</th>\n",
       "      <th>Director</th>\n",
       "      <th>No_of_Votes</th>\n",
       "      <th>Gross</th>\n",
       "    </tr>\n",
       "  </thead>\n",
       "  <tbody>\n",
       "    <tr>\n",
       "      <th>0</th>\n",
       "      <td>The Shawshank Redemption</td>\n",
       "      <td>1994</td>\n",
       "      <td>A</td>\n",
       "      <td>142</td>\n",
       "      <td>Drama</td>\n",
       "      <td>9.3</td>\n",
       "      <td>80.0</td>\n",
       "      <td>Frank Darabont</td>\n",
       "      <td>2343110</td>\n",
       "      <td>28341469</td>\n",
       "    </tr>\n",
       "    <tr>\n",
       "      <th>1</th>\n",
       "      <td>The Godfather</td>\n",
       "      <td>1972</td>\n",
       "      <td>A</td>\n",
       "      <td>175</td>\n",
       "      <td>Crime, Drama</td>\n",
       "      <td>9.2</td>\n",
       "      <td>100.0</td>\n",
       "      <td>Francis Ford Coppola</td>\n",
       "      <td>1620367</td>\n",
       "      <td>134966411</td>\n",
       "    </tr>\n",
       "    <tr>\n",
       "      <th>2</th>\n",
       "      <td>The Dark Knight</td>\n",
       "      <td>2008</td>\n",
       "      <td>UA</td>\n",
       "      <td>152</td>\n",
       "      <td>Action, Crime, Drama</td>\n",
       "      <td>9.0</td>\n",
       "      <td>84.0</td>\n",
       "      <td>Christopher Nolan</td>\n",
       "      <td>2303232</td>\n",
       "      <td>534858444</td>\n",
       "    </tr>\n",
       "    <tr>\n",
       "      <th>3</th>\n",
       "      <td>The Godfather: Part II</td>\n",
       "      <td>1974</td>\n",
       "      <td>A</td>\n",
       "      <td>202</td>\n",
       "      <td>Crime, Drama</td>\n",
       "      <td>9.0</td>\n",
       "      <td>90.0</td>\n",
       "      <td>Francis Ford Coppola</td>\n",
       "      <td>1129952</td>\n",
       "      <td>57300000</td>\n",
       "    </tr>\n",
       "    <tr>\n",
       "      <th>4</th>\n",
       "      <td>12 Angry Men</td>\n",
       "      <td>1957</td>\n",
       "      <td>U</td>\n",
       "      <td>96</td>\n",
       "      <td>Crime, Drama</td>\n",
       "      <td>9.0</td>\n",
       "      <td>96.0</td>\n",
       "      <td>Sidney Lumet</td>\n",
       "      <td>689845</td>\n",
       "      <td>4360000</td>\n",
       "    </tr>\n",
       "    <tr>\n",
       "      <th>5</th>\n",
       "      <td>The Lord of the Rings: The Return of the King</td>\n",
       "      <td>2003</td>\n",
       "      <td>U</td>\n",
       "      <td>201</td>\n",
       "      <td>Action, Adventure, Drama</td>\n",
       "      <td>8.9</td>\n",
       "      <td>94.0</td>\n",
       "      <td>Peter Jackson</td>\n",
       "      <td>1642758</td>\n",
       "      <td>377845905</td>\n",
       "    </tr>\n",
       "    <tr>\n",
       "      <th>6</th>\n",
       "      <td>Pulp Fiction</td>\n",
       "      <td>1994</td>\n",
       "      <td>A</td>\n",
       "      <td>154</td>\n",
       "      <td>Crime, Drama</td>\n",
       "      <td>8.9</td>\n",
       "      <td>94.0</td>\n",
       "      <td>Quentin Tarantino</td>\n",
       "      <td>1826188</td>\n",
       "      <td>107928762</td>\n",
       "    </tr>\n",
       "    <tr>\n",
       "      <th>7</th>\n",
       "      <td>Schindler's List</td>\n",
       "      <td>1993</td>\n",
       "      <td>A</td>\n",
       "      <td>195</td>\n",
       "      <td>Biography, Drama, History</td>\n",
       "      <td>8.9</td>\n",
       "      <td>94.0</td>\n",
       "      <td>Steven Spielberg</td>\n",
       "      <td>1213505</td>\n",
       "      <td>96898818</td>\n",
       "    </tr>\n",
       "    <tr>\n",
       "      <th>8</th>\n",
       "      <td>Inception</td>\n",
       "      <td>2010</td>\n",
       "      <td>UA</td>\n",
       "      <td>148</td>\n",
       "      <td>Action, Adventure, Sci-Fi</td>\n",
       "      <td>8.8</td>\n",
       "      <td>74.0</td>\n",
       "      <td>Christopher Nolan</td>\n",
       "      <td>2067042</td>\n",
       "      <td>292576195</td>\n",
       "    </tr>\n",
       "    <tr>\n",
       "      <th>9</th>\n",
       "      <td>Fight Club</td>\n",
       "      <td>1999</td>\n",
       "      <td>A</td>\n",
       "      <td>139</td>\n",
       "      <td>Drama</td>\n",
       "      <td>8.8</td>\n",
       "      <td>66.0</td>\n",
       "      <td>David Fincher</td>\n",
       "      <td>1854740</td>\n",
       "      <td>37030102</td>\n",
       "    </tr>\n",
       "  </tbody>\n",
       "</table>\n",
       "</div>"
      ],
      "text/plain": [
       "                                    Series_Title  Released_Year Certificate  \\\n",
       "0                       The Shawshank Redemption           1994           A   \n",
       "1                                  The Godfather           1972           A   \n",
       "2                                The Dark Knight           2008          UA   \n",
       "3                         The Godfather: Part II           1974           A   \n",
       "4                                   12 Angry Men           1957           U   \n",
       "5  The Lord of the Rings: The Return of the King           2003           U   \n",
       "6                                   Pulp Fiction           1994           A   \n",
       "7                               Schindler's List           1993           A   \n",
       "8                                      Inception           2010          UA   \n",
       "9                                     Fight Club           1999           A   \n",
       "\n",
       "   Runtime                      Genre  IMDB_Rating  Meta_score  \\\n",
       "0      142                      Drama          9.3        80.0   \n",
       "1      175               Crime, Drama          9.2       100.0   \n",
       "2      152       Action, Crime, Drama          9.0        84.0   \n",
       "3      202               Crime, Drama          9.0        90.0   \n",
       "4       96               Crime, Drama          9.0        96.0   \n",
       "5      201   Action, Adventure, Drama          8.9        94.0   \n",
       "6      154               Crime, Drama          8.9        94.0   \n",
       "7      195  Biography, Drama, History          8.9        94.0   \n",
       "8      148  Action, Adventure, Sci-Fi          8.8        74.0   \n",
       "9      139                      Drama          8.8        66.0   \n",
       "\n",
       "               Director  No_of_Votes      Gross  \n",
       "0        Frank Darabont      2343110   28341469  \n",
       "1  Francis Ford Coppola      1620367  134966411  \n",
       "2     Christopher Nolan      2303232  534858444  \n",
       "3  Francis Ford Coppola      1129952   57300000  \n",
       "4          Sidney Lumet       689845    4360000  \n",
       "5         Peter Jackson      1642758  377845905  \n",
       "6     Quentin Tarantino      1826188  107928762  \n",
       "7      Steven Spielberg      1213505   96898818  \n",
       "8     Christopher Nolan      2067042  292576195  \n",
       "9         David Fincher      1854740   37030102  "
      ]
     },
     "execution_count": 626,
     "metadata": {},
     "output_type": "execute_result"
    }
   ],
   "source": [
    "df.head(10)"
   ]
  },
  {
   "cell_type": "code",
   "execution_count": 627,
   "id": "c1cc3d4f-4ca7-49b3-8b29-e38ffbce1120",
   "metadata": {},
   "outputs": [],
   "source": [
    "# Convert 'Gross' column to string type if it's not already\n",
    "df['Gross'] = df['Gross'].astype(str)\n",
    "\n",
    "# Remove commas from the 'Gross' column and convert it to integer\n",
    "df['Gross'] = df['Gross'].str.replace(',', '').astype(int)\n"
   ]
  },
  {
   "cell_type": "code",
   "execution_count": 628,
   "id": "6ae845d9-f2f1-49ac-a74c-e33a79b5b58c",
   "metadata": {},
   "outputs": [
    {
     "data": {
      "text/plain": [
       "Text(0, 0.5, 'No of Movies')"
      ]
     },
     "execution_count": 628,
     "metadata": {},
     "output_type": "execute_result"
    },
    {
     "data": {
      "image/png": "[encoded data removed]",
      "text/plain": [
       "<Figure size 1500x900 with 1 Axes>"
      ]
     },
     "metadata": {},
     "output_type": "display_data"
    }
   ],
   "source": [
    "\n",
    "filtered_df = df[(df['Released_Year'] >= 2000) & (df['Released_Year'] <= 2019)]\n",
    "g=filtered_df.groupby(['Released_Year'],as_index=False)['Series_Title'].count()\n",
    "plt.figure(figsize=(15,9))\n",
    "sns.barplot(data=g,x=\"Released_Year\",y='Series_Title')\n",
    "plt.ylabel('No of Movies')\n"
   ]
  },
  {
   "cell_type": "markdown",
   "id": "82155dc6-72a3-461c-a359-081df5f0ad54",
   "metadata": {},
   "source": [
    "<h4 style=\"font-weight:300;font-size:21px;\"><i>The code snippet filters a DataFrame to include only rows with 'Released_Year' between 2000 and 2019. It then groups this filtered data by 'Released_Year' and counts the occurrences of 'No of Movies' for each year. Finally, it creates a bar plot displaying the count of Movies released each year between 2000 and 2019.</i></h4>"
   ]
  },
  {
   "cell_type": "code",
   "execution_count": 629,
   "id": "cbb6dcfd-dde3-415b-a17f-ff315e7c16de",
   "metadata": {},
   "outputs": [
    {
     "name": "stdout",
     "output_type": "stream",
     "text": [
      "<class 'pandas.core.frame.DataFrame'>\n",
      "Index: 10 entries, 0 to 12\n",
      "Data columns (total 10 columns):\n",
      " #   Column         Non-Null Count  Dtype  \n",
      "---  ------         --------------  -----  \n",
      " 0   Series_Title   10 non-null     object \n",
      " 1   Released_Year  10 non-null     int32  \n",
      " 2   Certificate    10 non-null     object \n",
      " 3   Runtime        10 non-null     int32  \n",
      " 4   Genre          10 non-null     object \n",
      " 5   IMDB_Rating    10 non-null     float64\n",
      " 6   Meta_score     10 non-null     float64\n",
      " 7   Director       10 non-null     object \n",
      " 8   No_of_Votes    10 non-null     int64  \n",
      " 9   Gross          10 non-null     int32  \n",
      "dtypes: float64(2), int32(3), int64(1), object(4)\n",
      "memory usage: 760.0+ bytes\n"
     ]
    },
    {
     "data": {
      "text/html": [
       "<div>\n",
       "<style scoped>\n",
       "    .dataframe tbody tr th:only-of-type {\n",
       "        vertical-align: middle;\n",
       "    }\n",
       "\n",
       "    .dataframe tbody tr th {\n",
       "        vertical-align: top;\n",
       "    }\n",
       "\n",
       "    .dataframe thead th {\n",
       "        text-align: right;\n",
       "    }\n",
       "</style>\n",
       "<table border=\"1\" class=\"dataframe\">\n",
       "  <thead>\n",
       "    <tr style=\"text-align: right;\">\n",
       "      <th></th>\n",
       "      <th>Series_Title</th>\n",
       "      <th>Released_Year</th>\n",
       "      <th>Certificate</th>\n",
       "      <th>Runtime</th>\n",
       "      <th>Genre</th>\n",
       "      <th>IMDB_Rating</th>\n",
       "      <th>Meta_score</th>\n",
       "      <th>Director</th>\n",
       "      <th>No_of_Votes</th>\n",
       "      <th>Gross</th>\n",
       "    </tr>\n",
       "  </thead>\n",
       "  <tbody>\n",
       "    <tr>\n",
       "      <th>0</th>\n",
       "      <td>The Shawshank Redemption</td>\n",
       "      <td>1994</td>\n",
       "      <td>A</td>\n",
       "      <td>142</td>\n",
       "      <td>Drama</td>\n",
       "      <td>9.3</td>\n",
       "      <td>80.0</td>\n",
       "      <td>Frank Darabont</td>\n",
       "      <td>2343110</td>\n",
       "      <td>28341469</td>\n",
       "    </tr>\n",
       "    <tr>\n",
       "      <th>1</th>\n",
       "      <td>The Godfather</td>\n",
       "      <td>1972</td>\n",
       "      <td>A</td>\n",
       "      <td>175</td>\n",
       "      <td>Crime, Drama</td>\n",
       "      <td>9.2</td>\n",
       "      <td>100.0</td>\n",
       "      <td>Francis Ford Coppola</td>\n",
       "      <td>1620367</td>\n",
       "      <td>134966411</td>\n",
       "    </tr>\n",
       "    <tr>\n",
       "      <th>2</th>\n",
       "      <td>The Dark Knight</td>\n",
       "      <td>2008</td>\n",
       "      <td>UA</td>\n",
       "      <td>152</td>\n",
       "      <td>Action, Crime, Drama</td>\n",
       "      <td>9.0</td>\n",
       "      <td>84.0</td>\n",
       "      <td>Christopher Nolan</td>\n",
       "      <td>2303232</td>\n",
       "      <td>534858444</td>\n",
       "    </tr>\n",
       "    <tr>\n",
       "      <th>3</th>\n",
       "      <td>The Godfather: Part II</td>\n",
       "      <td>1974</td>\n",
       "      <td>A</td>\n",
       "      <td>202</td>\n",
       "      <td>Crime, Drama</td>\n",
       "      <td>9.0</td>\n",
       "      <td>90.0</td>\n",
       "      <td>Francis Ford Coppola</td>\n",
       "      <td>1129952</td>\n",
       "      <td>57300000</td>\n",
       "    </tr>\n",
       "    <tr>\n",
       "      <th>4</th>\n",
       "      <td>12 Angry Men</td>\n",
       "      <td>1957</td>\n",
       "      <td>U</td>\n",
       "      <td>96</td>\n",
       "      <td>Crime, Drama</td>\n",
       "      <td>9.0</td>\n",
       "      <td>96.0</td>\n",
       "      <td>Sidney Lumet</td>\n",
       "      <td>689845</td>\n",
       "      <td>4360000</td>\n",
       "    </tr>\n",
       "    <tr>\n",
       "      <th>5</th>\n",
       "      <td>The Lord of the Rings: The Return of the King</td>\n",
       "      <td>2003</td>\n",
       "      <td>U</td>\n",
       "      <td>201</td>\n",
       "      <td>Action, Adventure, Drama</td>\n",
       "      <td>8.9</td>\n",
       "      <td>94.0</td>\n",
       "      <td>Peter Jackson</td>\n",
       "      <td>1642758</td>\n",
       "      <td>377845905</td>\n",
       "    </tr>\n",
       "    <tr>\n",
       "      <th>6</th>\n",
       "      <td>Pulp Fiction</td>\n",
       "      <td>1994</td>\n",
       "      <td>A</td>\n",
       "      <td>154</td>\n",
       "      <td>Crime, Drama</td>\n",
       "      <td>8.9</td>\n",
       "      <td>94.0</td>\n",
       "      <td>Quentin Tarantino</td>\n",
       "      <td>1826188</td>\n",
       "      <td>107928762</td>\n",
       "    </tr>\n",
       "    <tr>\n",
       "      <th>7</th>\n",
       "      <td>Schindler's List</td>\n",
       "      <td>1993</td>\n",
       "      <td>A</td>\n",
       "      <td>195</td>\n",
       "      <td>Biography, Drama, History</td>\n",
       "      <td>8.9</td>\n",
       "      <td>94.0</td>\n",
       "      <td>Steven Spielberg</td>\n",
       "      <td>1213505</td>\n",
       "      <td>96898818</td>\n",
       "    </tr>\n",
       "    <tr>\n",
       "      <th>10</th>\n",
       "      <td>The Lord of the Rings: The Fellowship of the Ring</td>\n",
       "      <td>2001</td>\n",
       "      <td>U</td>\n",
       "      <td>178</td>\n",
       "      <td>Action, Adventure, Drama</td>\n",
       "      <td>8.8</td>\n",
       "      <td>92.0</td>\n",
       "      <td>Peter Jackson</td>\n",
       "      <td>1661481</td>\n",
       "      <td>315544750</td>\n",
       "    </tr>\n",
       "    <tr>\n",
       "      <th>12</th>\n",
       "      <td>Il buono, il brutto, il cattivo</td>\n",
       "      <td>1966</td>\n",
       "      <td>A</td>\n",
       "      <td>161</td>\n",
       "      <td>Western</td>\n",
       "      <td>8.8</td>\n",
       "      <td>90.0</td>\n",
       "      <td>Sergio Leone</td>\n",
       "      <td>688390</td>\n",
       "      <td>6100000</td>\n",
       "    </tr>\n",
       "  </tbody>\n",
       "</table>\n",
       "</div>"
      ],
      "text/plain": [
       "                                         Series_Title  Released_Year  \\\n",
       "0                            The Shawshank Redemption           1994   \n",
       "1                                       The Godfather           1972   \n",
       "2                                     The Dark Knight           2008   \n",
       "3                              The Godfather: Part II           1974   \n",
       "4                                        12 Angry Men           1957   \n",
       "5       The Lord of the Rings: The Return of the King           2003   \n",
       "6                                        Pulp Fiction           1994   \n",
       "7                                    Schindler's List           1993   \n",
       "10  The Lord of the Rings: The Fellowship of the Ring           2001   \n",
       "12                    Il buono, il brutto, il cattivo           1966   \n",
       "\n",
       "   Certificate  Runtime                      Genre  IMDB_Rating  Meta_score  \\\n",
       "0            A      142                      Drama          9.3        80.0   \n",
       "1            A      175               Crime, Drama          9.2       100.0   \n",
       "2           UA      152       Action, Crime, Drama          9.0        84.0   \n",
       "3            A      202               Crime, Drama          9.0        90.0   \n",
       "4            U       96               Crime, Drama          9.0        96.0   \n",
       "5            U      201   Action, Adventure, Drama          8.9        94.0   \n",
       "6            A      154               Crime, Drama          8.9        94.0   \n",
       "7            A      195  Biography, Drama, History          8.9        94.0   \n",
       "10           U      178   Action, Adventure, Drama          8.8        92.0   \n",
       "12           A      161                    Western          8.8        90.0   \n",
       "\n",
       "                Director  No_of_Votes      Gross  \n",
       "0         Frank Darabont      2343110   28341469  \n",
       "1   Francis Ford Coppola      1620367  134966411  \n",
       "2      Christopher Nolan      2303232  534858444  \n",
       "3   Francis Ford Coppola      1129952   57300000  \n",
       "4           Sidney Lumet       689845    4360000  \n",
       "5          Peter Jackson      1642758  377845905  \n",
       "6      Quentin Tarantino      1826188  107928762  \n",
       "7       Steven Spielberg      1213505   96898818  \n",
       "10         Peter Jackson      1661481  315544750  \n",
       "12          Sergio Leone       688390    6100000  "
      ]
     },
     "execution_count": 629,
     "metadata": {},
     "output_type": "execute_result"
    }
   ],
   "source": [
    "sorted_df = df.sort_values(by='IMDB_Rating',ascending=False) \n",
    "t=sorted_df.iloc[:10,:]\n",
    "t.info()\n",
    "t"
   ]
  },
  {
   "cell_type": "code",
   "execution_count": 630,
   "id": "ca94a672-889e-4d24-8b1c-34ba9d04bf01",
   "metadata": {},
   "outputs": [
    {
     "data": {
      "text/plain": [
       "Text(0, 0.5, 'Movie')"
      ]
     },
     "execution_count": 630,
     "metadata": {},
     "output_type": "execute_result"
    },
    {
     "data": {
      "image/png": "[encoded data removed]",
      "text/plain": [
       "<Figure size 1600x1000 with 1 Axes>"
      ]
     },
     "metadata": {},
     "output_type": "display_data"
    }
   ],
   "source": [
    "plt.figure(figsize=(16,10))\n",
    "sns.barplot(x=t['IMDB_Rating'],y='Series_Title',data=t)\n",
    "plt.xlabel('IMDB Rating')\n",
    "plt.ylabel('Movie')"
   ]
  },
  {
   "cell_type": "markdown",
   "id": "1473e31e-64db-4920-93bb-1e7c6c8c111c",
   "metadata": {},
   "source": [
    "<h4 style=\"font-weight:300;font-size:21px;\"><i>The plot displays the IMDB ratings of various movies in a horizontal bar format. Each bar represents a movie, with its length corresponding to its IMDB rating. The longer the bar, the higher the rating of the movie. The y-axis represents the movie titles, while the x-axis represents the IMDB ratings. This visualization allows for a quick comparison of the ratings of Top 10 movies.</i></h4>"
   ]
  },
  {
   "cell_type": "code",
   "execution_count": 631,
   "id": "7bd79a18-63e9-4292-9083-97b167eeead4",
   "metadata": {},
   "outputs": [
    {
     "data": {
      "text/plain": [
       "<Axes: xlabel='Gross', ylabel='Series_Title'>"
      ]
     },
     "execution_count": 631,
     "metadata": {},
     "output_type": "execute_result"
    },
    {
     "data": {
      "image/png": "[encoded data removed]",
      "text/plain": [
       "<Figure size 1600x1000 with 1 Axes>"
      ]
     },
     "metadata": {},
     "output_type": "display_data"
    }
   ],
   "source": [
    "plt.figure(figsize=(16,10))\n",
    "sns.barplot(x=t['Gross'],y='Series_Title',data=t)"
   ]
  },
  {
   "cell_type": "markdown",
   "id": "13ab2a8d-ca8c-4184-8e0a-aa5d817b9810",
   "metadata": {},
   "source": [
    "<h4 style=\"font-weight:300;font-size:21px;\"><i>\n",
    "    The plot illustrates the gross earnings of various movies in a horizontal bar format. Each bar represents a movie, with its length indicating the gross earnings. The longer the bar, the higher the gross earnings of the corresponding movie. The y-axis represents the movie titles, while the x-axis represents the gross earnings. This visualization facilitates a straightforward comparison of the earnings across different Top 10 movies According to IMDB Rating.\n",
    "</i></h4>"
   ]
  },
  {
   "cell_type": "code",
   "execution_count": 632,
   "id": "3ca357c5-a333-41be-a7bf-27dd0a97e32f",
   "metadata": {},
   "outputs": [
    {
     "data": {
      "text/plain": [
       "<Axes: xlabel='IMDB_Rating', ylabel='Gross'>"
      ]
     },
     "execution_count": 632,
     "metadata": {},
     "output_type": "execute_result"
    },
    {
     "data": {
      "image/png": "[encoded data removed]",
      "text/plain": [
       "<Figure size 1400x800 with 1 Axes>"
      ]
     },
     "metadata": {},
     "output_type": "display_data"
    }
   ],
   "source": [
    "plt.figure(figsize=(14,8))\n",
    "g = df.groupby(['IMDB_Rating'], as_index=False)['Gross'].mean().sort_values(by='Gross', ascending=False)\n",
    "sns.barplot(data=g,x='IMDB_Rating',y='Gross')\n"
   ]
  },
  {
   "cell_type": "markdown",
   "id": "b922050c-3cfa-436d-addb-237127a38b92",
   "metadata": {},
   "source": [
    "<h4 style=\"font-weight:300;font-size:21px;\"><i>\r\n",
    "The code groups the DataFrame df by 'IMDB_Rating' and calculates the mean of the 'Gross' column for each group. It then sorts these mean values in descending order. Finally, it creates a bar plot where the x-axis represents the 'IMDB_Rating' and the y-axis represents the mean 'Gross' value for each 'IMDB_Rating' group\n",
    "</i></h4>"
   ]
  },
  {
   "cell_type": "code",
   "execution_count": 633,
   "id": "fd39e4fe-23e8-4a96-bf84-c572238f756b",
   "metadata": {},
   "outputs": [
    {
     "name": "stderr",
     "output_type": "stream",
     "text": [
      "C:\\Users\\Ganesh\\AppData\\Local\\Programs\\Python\\Python311\\Lib\\site-packages\\seaborn\\_oldcore.py:1119: FutureWarning: use_inf_as_na option is deprecated and will be removed in a future version. Convert inf values to NaN before operating instead.\n",
      "  with pd.option_context('mode.use_inf_as_na', True):\n"
     ]
    },
    {
     "data": {
      "text/plain": [
       "<seaborn.axisgrid.FacetGrid at 0x27f24d61e50>"
      ]
     },
     "execution_count": 633,
     "metadata": {},
     "output_type": "execute_result"
    },
    {
     "data": {
      "image/png": "[encoded data removed]",
      "text/plain": [
       "<Figure size 500x500 with 1 Axes>"
      ]
     },
     "metadata": {},
     "output_type": "display_data"
    }
   ],
   "source": [
    "sns.displot(x='Certificate',data=df,kind=\"hist\")"
   ]
  },
  {
   "cell_type": "markdown",
   "id": "97a6d753-b36b-4289-9cdf-b88e99b5623d",
   "metadata": {},
   "source": [
    "<h4 style=\"font-weight:300;font-size:21px;\"><i>The provided code utilizes Seaborn's displot function with the kind=\"hist\" parameter, creating a small histogram of the 'Certificate' column in the DataFrame df.</i></h4>"
   ]
  },
  {
   "cell_type": "code",
   "execution_count": 634,
   "id": "97c4ea8b-a6d4-49c8-9076-6f897eb5cd9f",
   "metadata": {},
   "outputs": [
    {
     "data": {
      "text/plain": [
       "<Axes: xlabel='No_of_Votes', ylabel='Certificate'>"
      ]
     },
     "execution_count": 634,
     "metadata": {},
     "output_type": "execute_result"
    },
    {
     "data": {
      "image/png": "[encoded data removed]",
      "text/plain": [
       "<Figure size 640x480 with 1 Axes>"
      ]
     },
     "metadata": {},
     "output_type": "display_data"
    }
   ],
   "source": [
    "g=df.groupby(['Certificate'],as_index=False)[\"No_of_Votes\"].sum().sort_values(by='No_of_Votes',ascending=False)\n",
    "sns.barplot(data=g,y='Certificate',x='No_of_Votes')\n"
   ]
  },
  {
   "cell_type": "markdown",
   "id": "bf35c836-f7d2-4f37-804d-f821861b376d",
   "metadata": {},
   "source": [
    "<h4 style=\"font-weight:300;font-size:21px;\"><i>\n",
    "    The provided code computes the total number of votes for each movie certificate category by grouping the DataFrame df by the 'Certificate' column and summing the 'No_of_Votes' column within each group. The results are then sorted in descending order based on the total number of votes.\r\n",
    "\n",
    "\r\n",
    "Subsequently, Seaborn's barplot function is utilized to generate a bar plot displaying the total number of votes for each movie certificate category. The x-axis represents the total number of votes, while the y-axis represents the movie certificate categories.\n",
    "</i></h4>"
   ]
  },
  {
   "cell_type": "code",
   "execution_count": null,
   "id": "1041921d-4a11-4d7c-9fe6-8c3582407c88",
   "metadata": {},
   "outputs": [],
   "source": []
  },
  {
   "cell_type": "code",
   "execution_count": null,
   "id": "f4db44be-9c93-41e7-9b3d-74a5b8c9a884",
   "metadata": {},
   "outputs": [],
   "source": []
  }
 ],
 "metadata": {
  "kernelspec": {
   "display_name": "Python 3 (ipykernel)",
   "language": "python",
   "name": "python3"
  },
  "language_info": {
   "codemirror_mode": {
    "name": "ipython",
    "version": 3
   },
   "file_extension": ".py",
   "mimetype": "text/x-python",
   "name": "python",
   "nbconvert_exporter": "python",
   "pygments_lexer": "ipython3",
   "version": "3.11.2"
  }
 },
 "nbformat": 4,
 "nbformat_minor": 5
}
